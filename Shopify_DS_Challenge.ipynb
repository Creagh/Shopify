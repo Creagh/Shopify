{
 "cells": [
  {
   "cell_type": "markdown",
   "id": "8db8ed82",
   "metadata": {},
   "source": [
    "# Fall 2021 Data Science Intern Challenge\n",
    "by Creagh Briercliffe"
   ]
  },
  {
   "cell_type": "markdown",
   "id": "40eb53cf",
   "metadata": {},
   "source": [
    "## Question 1\n",
    "> On Shopify, we have exactly 100 sneaker shops, and each of these shops sells only one model of shoe. We want to do some analysis of the average order value (AOV). When we look at orders data over a 30 day window, we naively calculate an AOV of \\$3145.13. Given that we know these shops are selling sneakers, a relatively affordable item, something seems wrong with our analysis."
   ]
  },
  {
   "cell_type": "code",
   "execution_count": 16,
   "id": "da83bfca",
   "metadata": {},
   "outputs": [],
   "source": [
    "# Load libraries\n",
    "library(dplyr)      # manipulating data\n",
    "library(lubridate)  # working with dates\n",
    "library(scales)     # working with currency\n",
    "library(ggplot2)    # plotting"
   ]
  },
  {
   "cell_type": "markdown",
   "id": "537fe56b",
   "metadata": {},
   "source": [
    "Read in the shoe sales data; examine the structure of the dataframe."
   ]
  },
  {
   "cell_type": "code",
   "execution_count": 2,
   "id": "05287451",
   "metadata": {
    "scrolled": true
   },
   "outputs": [
    {
     "name": "stdout",
     "output_type": "stream",
     "text": [
      "'data.frame':\t5000 obs. of  7 variables:\n",
      " $ order_id      : int  1 2 3 4 5 6 7 8 9 10 ...\n",
      " $ shop_id       : int  53 92 44 18 18 58 87 22 64 52 ...\n",
      " $ user_id       : int  746 925 861 935 883 882 915 761 914 788 ...\n",
      " $ order_amount  : int  224 90 144 156 156 138 149 292 266 146 ...\n",
      " $ total_items   : int  2 1 1 1 1 1 1 2 2 1 ...\n",
      " $ payment_method: Factor w/ 3 levels \"cash\",\"credit_card\",..: 1 1 1 2 2 2 1 1 3 2 ...\n",
      " $ created_at    : Factor w/ 4991 levels \"2017-03-01 0:08:09\",..: 2064 423 2310 4169 142 2233 106 1294 2751 4920 ...\n"
     ]
    }
   ],
   "source": [
    "sales <- read.csv('data/2019 Winter Data Science Intern Challenge Data Set - Sheet1.csv', header=TRUE)\n",
    "str(sales)"
   ]
  },
  {
   "cell_type": "markdown",
   "id": "c41ad8d3",
   "metadata": {},
   "source": [
    "Let's take a peek at the first several entries."
   ]
  },
  {
   "cell_type": "code",
   "execution_count": 3,
   "id": "b7c49661",
   "metadata": {},
   "outputs": [
    {
     "data": {
      "text/html": [
       "<table>\n",
       "<thead><tr><th scope=col>order_id</th><th scope=col>shop_id</th><th scope=col>user_id</th><th scope=col>order_amount</th><th scope=col>total_items</th><th scope=col>payment_method</th><th scope=col>created_at</th></tr></thead>\n",
       "<tbody>\n",
       "\t<tr><td>1                  </td><td>53                 </td><td>746                </td><td>224                </td><td>2                  </td><td>cash               </td><td>2017-03-13 12:36:56</td></tr>\n",
       "\t<tr><td>2                  </td><td>92                 </td><td>925                </td><td> 90                </td><td>1                  </td><td>cash               </td><td>2017-03-03 17:38:52</td></tr>\n",
       "\t<tr><td>3                  </td><td>44                 </td><td>861                </td><td>144                </td><td>1                  </td><td>cash               </td><td>2017-03-14 4:23:56 </td></tr>\n",
       "\t<tr><td>4                  </td><td>18                 </td><td>935                </td><td>156                </td><td>1                  </td><td>credit_card        </td><td>2017-03-26 12:43:37</td></tr>\n",
       "\t<tr><td>5                  </td><td>18                 </td><td>883                </td><td>156                </td><td>1                  </td><td>credit_card        </td><td>2017-03-01 4:35:11 </td></tr>\n",
       "\t<tr><td>6                  </td><td>58                 </td><td>882                </td><td>138                </td><td>1                  </td><td>credit_card        </td><td>2017-03-14 15:25:01</td></tr>\n",
       "</tbody>\n",
       "</table>\n"
      ],
      "text/latex": [
       "\\begin{tabular}{r|lllllll}\n",
       " order\\_id & shop\\_id & user\\_id & order\\_amount & total\\_items & payment\\_method & created\\_at\\\\\n",
       "\\hline\n",
       "\t 1                   & 53                  & 746                 & 224                 & 2                   & cash                & 2017-03-13 12:36:56\\\\\n",
       "\t 2                   & 92                  & 925                 &  90                 & 1                   & cash                & 2017-03-03 17:38:52\\\\\n",
       "\t 3                   & 44                  & 861                 & 144                 & 1                   & cash                & 2017-03-14 4:23:56 \\\\\n",
       "\t 4                   & 18                  & 935                 & 156                 & 1                   & credit\\_card       & 2017-03-26 12:43:37\\\\\n",
       "\t 5                   & 18                  & 883                 & 156                 & 1                   & credit\\_card       & 2017-03-01 4:35:11 \\\\\n",
       "\t 6                   & 58                  & 882                 & 138                 & 1                   & credit\\_card       & 2017-03-14 15:25:01\\\\\n",
       "\\end{tabular}\n"
      ],
      "text/markdown": [
       "\n",
       "| order_id | shop_id | user_id | order_amount | total_items | payment_method | created_at |\n",
       "|---|---|---|---|---|---|---|\n",
       "| 1                   | 53                  | 746                 | 224                 | 2                   | cash                | 2017-03-13 12:36:56 |\n",
       "| 2                   | 92                  | 925                 |  90                 | 1                   | cash                | 2017-03-03 17:38:52 |\n",
       "| 3                   | 44                  | 861                 | 144                 | 1                   | cash                | 2017-03-14 4:23:56  |\n",
       "| 4                   | 18                  | 935                 | 156                 | 1                   | credit_card         | 2017-03-26 12:43:37 |\n",
       "| 5                   | 18                  | 883                 | 156                 | 1                   | credit_card         | 2017-03-01 4:35:11  |\n",
       "| 6                   | 58                  | 882                 | 138                 | 1                   | credit_card         | 2017-03-14 15:25:01 |\n",
       "\n"
      ],
      "text/plain": [
       "  order_id shop_id user_id order_amount total_items payment_method\n",
       "1 1        53      746     224          2           cash          \n",
       "2 2        92      925      90          1           cash          \n",
       "3 3        44      861     144          1           cash          \n",
       "4 4        18      935     156          1           credit_card   \n",
       "5 5        18      883     156          1           credit_card   \n",
       "6 6        58      882     138          1           credit_card   \n",
       "  created_at         \n",
       "1 2017-03-13 12:36:56\n",
       "2 2017-03-03 17:38:52\n",
       "3 2017-03-14 4:23:56 \n",
       "4 2017-03-26 12:43:37\n",
       "5 2017-03-01 4:35:11 \n",
       "6 2017-03-14 15:25:01"
      ]
     },
     "metadata": {},
     "output_type": "display_data"
    }
   ],
   "source": [
    "head(sales)"
   ]
  },
  {
   "cell_type": "markdown",
   "id": "d311cbb0",
   "metadata": {},
   "source": [
    "Since we are interested in calculating metrics over a 30 day window, we convert the `created_at` column to date format. We can then calculate the length of time that our data spans."
   ]
  },
  {
   "cell_type": "code",
   "execution_count": 4,
   "id": "b74de1ba",
   "metadata": {},
   "outputs": [
    {
     "data": {
      "text/plain": [
       "Time difference of 29.99127 days"
      ]
     },
     "metadata": {},
     "output_type": "display_data"
    }
   ],
   "source": [
    "sales$created_at <- ymd_hms(sales$created_at)  # convert factor to date format\n",
    "max(sales$created_at) - min(sales$created_at)  # calculate the time window length"
   ]
  },
  {
   "cell_type": "markdown",
   "id": "c2c63778",
   "metadata": {},
   "source": [
    "As the dataframe consiststs of 30 days, we confirm the AOV simply by calculating the mean over the entire `order_amount` column. Producing a 5 number summary reveals that the data is highly right-skewed: the mean is around 8 times larger than the third quartile."
   ]
  },
  {
   "cell_type": "code",
   "execution_count": 5,
   "id": "85de43b0",
   "metadata": {},
   "outputs": [
    {
     "data": {
      "text/html": [
       "'$3,145.13'"
      ],
      "text/latex": [
       "'\\$3,145.13'"
      ],
      "text/markdown": [
       "'$3,145.13'"
      ],
      "text/plain": [
       "[1] \"$3,145.13\""
      ]
     },
     "metadata": {},
     "output_type": "display_data"
    },
    {
     "data": {
      "text/plain": [
       "   Min. 1st Qu.  Median    Mean 3rd Qu.    Max. \n",
       "     90     163     284    3145     390  704000 "
      ]
     },
     "metadata": {},
     "output_type": "display_data"
    }
   ],
   "source": [
    "dollar_format()(mean(sales$order_amount))  # calculate AOV\n",
    "summary(sales$order_amount)                # produce 5 number summary"
   ]
  },
  {
   "cell_type": "markdown",
   "id": "d2ca4502",
   "metadata": {},
   "source": [
    "If we were to create a visualization of this raw data, the heavy right-skew and scale of the plot will make it difficult to discern any information about the bulk of the data. Instead, since all order amounts are greater than zero, we can visualize the histogram of order amounts on a logarithmic scale&mdash;this transformation is purely for visualization purposes. In the following plot, the blue dashed line represents the AOV, while the red dashed line marks the median order amount."
   ]
  },
  {
   "cell_type": "code",
   "execution_count": 58,
   "id": "61d6fc98",
   "metadata": {},
   "outputs": [
    {
     "data": {
      "image/png": "[encoded data removed]",
      "text/plain": [
       "plot without title"
      ]
     },
     "metadata": {},
     "output_type": "display_data"
    }
   ],
   "source": [
    "aov <- mean(sales$order_amount)   # AOV\n",
    "med <- median(sales$order_amount) # Median order amount\n",
    "\n",
    "ggplot(sales, aes(x=order_amount)) + \n",
    "    geom_histogram(bins=50) + \n",
    "    geom_vline(aes(xintercept=mean(order_amount)), color=\"blue\", linetype=\"dashed\", size=0.5) +\n",
    "    geom_vline(aes(xintercept=median(order_amount)), color=\"red\", linetype=\"dashed\", size=0.5) +\n",
    "    scale_x_log10(breaks=trans_breaks(\"log10\", function(x) 10^x), labels=trans_format(\"log10\", math_format(10^.x))) +\n",
    "    ggtitle(expression(Histogram~of~Log[10]~Order~Amount~over~30~Days)) + \n",
    "    xlab(expression(order~amount~(log[10]~dollars))) +\n",
    "    annotate(geom =\"text\", x = aov+400, y = 1, label=\"AOV\", hjust=0, vjust=0, size = 4, angle = 45, color = \"blue\") +\n",
    "    annotate(geom =\"text\", x = med+50, y = 1, label=\"Median\", hjust=0, vjust=0, size = 4, angle = 45, color = \"red\")                                    "
   ]
  },
  {
   "cell_type": "markdown",
   "id": "5098c05d",
   "metadata": {},
   "source": [
    "From the above plot, it is clear that a relatively small number of orders with high dollar amount are pulling the mean (or AOV) to the right, away from the center of the bulk of data. The red dashed line, representing the median order amount, appears to be a much better measure of the center of the data distribution, that is robust to the large outliers.\n",
    "\n",
    "As we continue to explore the data and these outliers, it makes sense to consider the dollar amount per item in each order. Perhaps these large order amounts are simply caused by bulk orders of many sneakers, where the amount per sneaker purchased is still reasonable."
   ]
  },
  {
   "cell_type": "code",
   "execution_count": 70,
   "id": "f949561e",
   "metadata": {},
   "outputs": [
    {
     "data": {
      "text/plain": [
       "   Min. 1st Qu.  Median    Mean 3rd Qu.    Max. \n",
       "   90.0   133.0   153.0   387.7   169.0 25725.0 "
      ]
     },
     "metadata": {},
     "output_type": "display_data"
    }
   ],
   "source": [
    "sales$amount_per_item <- sales$order_amount / sales$total_items  # dollar amount per item in each order\n",
    "summary(sales$amount_per_item)"
   ]
  },
  {
   "cell_type": "markdown",
   "id": "9ac209ba",
   "metadata": {},
   "source": [
    "We find that the maximum dollar amount per item across all orders is $25,725, which seems suspiciously high for a pair of sneakers!\n",
    "\n",
    "Let's take a look at the data for the top 20 order amounts to see if we can find any more oddities."
   ]
  },
  {
   "cell_type": "code",
   "execution_count": 60,
   "id": "cb62f28c",
   "metadata": {},
   "outputs": [
    {
     "data": {
      "text/html": [
       "<table>\n",
       "<thead><tr><th scope=col>order_id</th><th scope=col>shop_id</th><th scope=col>user_id</th><th scope=col>order_amount</th><th scope=col>total_items</th><th scope=col>payment_method</th><th scope=col>created_at</th><th scope=col>amount_per_item</th></tr></thead>\n",
       "<tbody>\n",
       "\t<tr><td>  16               </td><td>42                 </td><td>607                </td><td>704000             </td><td>2000               </td><td>credit_card        </td><td>2017-03-07 04:00:00</td><td>  352              </td></tr>\n",
       "\t<tr><td>  61               </td><td>42                 </td><td>607                </td><td>704000             </td><td>2000               </td><td>credit_card        </td><td>2017-03-04 04:00:00</td><td>  352              </td></tr>\n",
       "\t<tr><td> 521               </td><td>42                 </td><td>607                </td><td>704000             </td><td>2000               </td><td>credit_card        </td><td>2017-03-02 04:00:00</td><td>  352              </td></tr>\n",
       "\t<tr><td>1105               </td><td>42                 </td><td>607                </td><td>704000             </td><td>2000               </td><td>credit_card        </td><td>2017-03-24 04:00:00</td><td>  352              </td></tr>\n",
       "\t<tr><td>1363               </td><td>42                 </td><td>607                </td><td>704000             </td><td>2000               </td><td>credit_card        </td><td>2017-03-15 04:00:00</td><td>  352              </td></tr>\n",
       "\t<tr><td>1437               </td><td>42                 </td><td>607                </td><td>704000             </td><td>2000               </td><td>credit_card        </td><td>2017-03-11 04:00:00</td><td>  352              </td></tr>\n",
       "\t<tr><td>1563               </td><td>42                 </td><td>607                </td><td>704000             </td><td>2000               </td><td>credit_card        </td><td>2017-03-19 04:00:00</td><td>  352              </td></tr>\n",
       "\t<tr><td>1603               </td><td>42                 </td><td>607                </td><td>704000             </td><td>2000               </td><td>credit_card        </td><td>2017-03-17 04:00:00</td><td>  352              </td></tr>\n",
       "\t<tr><td>2154               </td><td>42                 </td><td>607                </td><td>704000             </td><td>2000               </td><td>credit_card        </td><td>2017-03-12 04:00:00</td><td>  352              </td></tr>\n",
       "\t<tr><td>2298               </td><td>42                 </td><td>607                </td><td>704000             </td><td>2000               </td><td>credit_card        </td><td>2017-03-07 04:00:00</td><td>  352              </td></tr>\n",
       "\t<tr><td>2836               </td><td>42                 </td><td>607                </td><td>704000             </td><td>2000               </td><td>credit_card        </td><td>2017-03-28 04:00:00</td><td>  352              </td></tr>\n",
       "\t<tr><td>2970               </td><td>42                 </td><td>607                </td><td>704000             </td><td>2000               </td><td>credit_card        </td><td>2017-03-28 04:00:00</td><td>  352              </td></tr>\n",
       "\t<tr><td>3333               </td><td>42                 </td><td>607                </td><td>704000             </td><td>2000               </td><td>credit_card        </td><td>2017-03-24 04:00:00</td><td>  352              </td></tr>\n",
       "\t<tr><td>4057               </td><td>42                 </td><td>607                </td><td>704000             </td><td>2000               </td><td>credit_card        </td><td>2017-03-28 04:00:00</td><td>  352              </td></tr>\n",
       "\t<tr><td>4647               </td><td>42                 </td><td>607                </td><td>704000             </td><td>2000               </td><td>credit_card        </td><td>2017-03-02 04:00:00</td><td>  352              </td></tr>\n",
       "\t<tr><td>4869               </td><td>42                 </td><td>607                </td><td>704000             </td><td>2000               </td><td>credit_card        </td><td>2017-03-22 04:00:00</td><td>  352              </td></tr>\n",
       "\t<tr><td>4883               </td><td>42                 </td><td>607                </td><td>704000             </td><td>2000               </td><td>credit_card        </td><td>2017-03-25 04:00:00</td><td>  352              </td></tr>\n",
       "\t<tr><td> 692               </td><td>78                 </td><td>878                </td><td>154350             </td><td>   6               </td><td>debit              </td><td>2017-03-27 22:51:43</td><td>25725              </td></tr>\n",
       "\t<tr><td>2493               </td><td>78                 </td><td>834                </td><td>102900             </td><td>   4               </td><td>debit              </td><td>2017-03-04 04:37:34</td><td>25725              </td></tr>\n",
       "\t<tr><td>1260               </td><td>78                 </td><td>775                </td><td> 77175             </td><td>   3               </td><td>credit_card        </td><td>2017-03-27 09:27:20</td><td>25725              </td></tr>\n",
       "</tbody>\n",
       "</table>\n"
      ],
      "text/latex": [
       "\\begin{tabular}{r|llllllll}\n",
       " order\\_id & shop\\_id & user\\_id & order\\_amount & total\\_items & payment\\_method & created\\_at & amount\\_per\\_item\\\\\n",
       "\\hline\n",
       "\t   16                & 42                  & 607                 & 704000              & 2000                & credit\\_card       & 2017-03-07 04:00:00 &   352              \\\\\n",
       "\t   61                & 42                  & 607                 & 704000              & 2000                & credit\\_card       & 2017-03-04 04:00:00 &   352              \\\\\n",
       "\t  521                & 42                  & 607                 & 704000              & 2000                & credit\\_card       & 2017-03-02 04:00:00 &   352              \\\\\n",
       "\t 1105                & 42                  & 607                 & 704000              & 2000                & credit\\_card       & 2017-03-24 04:00:00 &   352              \\\\\n",
       "\t 1363                & 42                  & 607                 & 704000              & 2000                & credit\\_card       & 2017-03-15 04:00:00 &   352              \\\\\n",
       "\t 1437                & 42                  & 607                 & 704000              & 2000                & credit\\_card       & 2017-03-11 04:00:00 &   352              \\\\\n",
       "\t 1563                & 42                  & 607                 & 704000              & 2000                & credit\\_card       & 2017-03-19 04:00:00 &   352              \\\\\n",
       "\t 1603                & 42                  & 607                 & 704000              & 2000                & credit\\_card       & 2017-03-17 04:00:00 &   352              \\\\\n",
       "\t 2154                & 42                  & 607                 & 704000              & 2000                & credit\\_card       & 2017-03-12 04:00:00 &   352              \\\\\n",
       "\t 2298                & 42                  & 607                 & 704000              & 2000                & credit\\_card       & 2017-03-07 04:00:00 &   352              \\\\\n",
       "\t 2836                & 42                  & 607                 & 704000              & 2000                & credit\\_card       & 2017-03-28 04:00:00 &   352              \\\\\n",
       "\t 2970                & 42                  & 607                 & 704000              & 2000                & credit\\_card       & 2017-03-28 04:00:00 &   352              \\\\\n",
       "\t 3333                & 42                  & 607                 & 704000              & 2000                & credit\\_card       & 2017-03-24 04:00:00 &   352              \\\\\n",
       "\t 4057                & 42                  & 607                 & 704000              & 2000                & credit\\_card       & 2017-03-28 04:00:00 &   352              \\\\\n",
       "\t 4647                & 42                  & 607                 & 704000              & 2000                & credit\\_card       & 2017-03-02 04:00:00 &   352              \\\\\n",
       "\t 4869                & 42                  & 607                 & 704000              & 2000                & credit\\_card       & 2017-03-22 04:00:00 &   352              \\\\\n",
       "\t 4883                & 42                  & 607                 & 704000              & 2000                & credit\\_card       & 2017-03-25 04:00:00 &   352              \\\\\n",
       "\t  692                & 78                  & 878                 & 154350              &    6                & debit               & 2017-03-27 22:51:43 & 25725              \\\\\n",
       "\t 2493                & 78                  & 834                 & 102900              &    4                & debit               & 2017-03-04 04:37:34 & 25725              \\\\\n",
       "\t 1260                & 78                  & 775                 &  77175              &    3                & credit\\_card       & 2017-03-27 09:27:20 & 25725              \\\\\n",
       "\\end{tabular}\n"
      ],
      "text/markdown": [
       "\n",
       "| order_id | shop_id | user_id | order_amount | total_items | payment_method | created_at | amount_per_item |\n",
       "|---|---|---|---|---|---|---|---|\n",
       "|   16                | 42                  | 607                 | 704000              | 2000                | credit_card         | 2017-03-07 04:00:00 |   352               |\n",
       "|   61                | 42                  | 607                 | 704000              | 2000                | credit_card         | 2017-03-04 04:00:00 |   352               |\n",
       "|  521                | 42                  | 607                 | 704000              | 2000                | credit_card         | 2017-03-02 04:00:00 |   352               |\n",
       "| 1105                | 42                  | 607                 | 704000              | 2000                | credit_card         | 2017-03-24 04:00:00 |   352               |\n",
       "| 1363                | 42                  | 607                 | 704000              | 2000                | credit_card         | 2017-03-15 04:00:00 |   352               |\n",
       "| 1437                | 42                  | 607                 | 704000              | 2000                | credit_card         | 2017-03-11 04:00:00 |   352               |\n",
       "| 1563                | 42                  | 607                 | 704000              | 2000                | credit_card         | 2017-03-19 04:00:00 |   352               |\n",
       "| 1603                | 42                  | 607                 | 704000              | 2000                | credit_card         | 2017-03-17 04:00:00 |   352               |\n",
       "| 2154                | 42                  | 607                 | 704000              | 2000                | credit_card         | 2017-03-12 04:00:00 |   352               |\n",
       "| 2298                | 42                  | 607                 | 704000              | 2000                | credit_card         | 2017-03-07 04:00:00 |   352               |\n",
       "| 2836                | 42                  | 607                 | 704000              | 2000                | credit_card         | 2017-03-28 04:00:00 |   352               |\n",
       "| 2970                | 42                  | 607                 | 704000              | 2000                | credit_card         | 2017-03-28 04:00:00 |   352               |\n",
       "| 3333                | 42                  | 607                 | 704000              | 2000                | credit_card         | 2017-03-24 04:00:00 |   352               |\n",
       "| 4057                | 42                  | 607                 | 704000              | 2000                | credit_card         | 2017-03-28 04:00:00 |   352               |\n",
       "| 4647                | 42                  | 607                 | 704000              | 2000                | credit_card         | 2017-03-02 04:00:00 |   352               |\n",
       "| 4869                | 42                  | 607                 | 704000              | 2000                | credit_card         | 2017-03-22 04:00:00 |   352               |\n",
       "| 4883                | 42                  | 607                 | 704000              | 2000                | credit_card         | 2017-03-25 04:00:00 |   352               |\n",
       "|  692                | 78                  | 878                 | 154350              |    6                | debit               | 2017-03-27 22:51:43 | 25725               |\n",
       "| 2493                | 78                  | 834                 | 102900              |    4                | debit               | 2017-03-04 04:37:34 | 25725               |\n",
       "| 1260                | 78                  | 775                 |  77175              |    3                | credit_card         | 2017-03-27 09:27:20 | 25725               |\n",
       "\n"
      ],
      "text/plain": [
       "   order_id shop_id user_id order_amount total_items payment_method\n",
       "1    16     42      607     704000       2000        credit_card   \n",
       "2    61     42      607     704000       2000        credit_card   \n",
       "3   521     42      607     704000       2000        credit_card   \n",
       "4  1105     42      607     704000       2000        credit_card   \n",
       "5  1363     42      607     704000       2000        credit_card   \n",
       "6  1437     42      607     704000       2000        credit_card   \n",
       "7  1563     42      607     704000       2000        credit_card   \n",
       "8  1603     42      607     704000       2000        credit_card   \n",
       "9  2154     42      607     704000       2000        credit_card   \n",
       "10 2298     42      607     704000       2000        credit_card   \n",
       "11 2836     42      607     704000       2000        credit_card   \n",
       "12 2970     42      607     704000       2000        credit_card   \n",
       "13 3333     42      607     704000       2000        credit_card   \n",
       "14 4057     42      607     704000       2000        credit_card   \n",
       "15 4647     42      607     704000       2000        credit_card   \n",
       "16 4869     42      607     704000       2000        credit_card   \n",
       "17 4883     42      607     704000       2000        credit_card   \n",
       "18  692     78      878     154350          6        debit         \n",
       "19 2493     78      834     102900          4        debit         \n",
       "20 1260     78      775      77175          3        credit_card   \n",
       "   created_at          amount_per_item\n",
       "1  2017-03-07 04:00:00   352          \n",
       "2  2017-03-04 04:00:00   352          \n",
       "3  2017-03-02 04:00:00   352          \n",
       "4  2017-03-24 04:00:00   352          \n",
       "5  2017-03-15 04:00:00   352          \n",
       "6  2017-03-11 04:00:00   352          \n",
       "7  2017-03-19 04:00:00   352          \n",
       "8  2017-03-17 04:00:00   352          \n",
       "9  2017-03-12 04:00:00   352          \n",
       "10 2017-03-07 04:00:00   352          \n",
       "11 2017-03-28 04:00:00   352          \n",
       "12 2017-03-28 04:00:00   352          \n",
       "13 2017-03-24 04:00:00   352          \n",
       "14 2017-03-28 04:00:00   352          \n",
       "15 2017-03-02 04:00:00   352          \n",
       "16 2017-03-22 04:00:00   352          \n",
       "17 2017-03-25 04:00:00   352          \n",
       "18 2017-03-27 22:51:43 25725          \n",
       "19 2017-03-04 04:37:34 25725          \n",
       "20 2017-03-27 09:27:20 25725          "
      ]
     },
     "metadata": {},
     "output_type": "display_data"
    }
   ],
   "source": [
    "head(sales %>% arrange(desc(order_amount)), 20)"
   ]
  },
  {
   "cell_type": "markdown",
   "id": "264fcef7",
   "metadata": {},
   "source": [
    "The above data reveals some more curious beahaviour. We note two findings here:\n",
    "1. There are several orders between the same `shop_id, user_id` pairing, (42, 607), for the same `order_amount` and `total_items`, occuring at the same time (4 AM), across multiple days; \n",
    "2. There are at least a few orders from `shop_id = 78` that have an amount per item of $25,725.\n",
    "\n",
    "Exploring the data further, taking a look at the top 6 orders in terms of amount per item, we see that there are indeed several orders with an amount per item of $25,725, all from `shop_id = 78`."
   ]
  },
  {
   "cell_type": "code",
   "execution_count": 61,
   "id": "a6643b6e",
   "metadata": {},
   "outputs": [
    {
     "data": {
      "text/html": [
       "<table>\n",
       "<thead><tr><th scope=col>order_id</th><th scope=col>shop_id</th><th scope=col>user_id</th><th scope=col>order_amount</th><th scope=col>total_items</th><th scope=col>payment_method</th><th scope=col>created_at</th><th scope=col>amount_per_item</th></tr></thead>\n",
       "<tbody>\n",
       "\t<tr><td>161                </td><td>78                 </td><td>990                </td><td> 25725             </td><td>1                  </td><td>credit_card        </td><td>2017-03-12 05:56:57</td><td>25725              </td></tr>\n",
       "\t<tr><td>491                </td><td>78                 </td><td>936                </td><td> 51450             </td><td>2                  </td><td>debit              </td><td>2017-03-26 17:08:19</td><td>25725              </td></tr>\n",
       "\t<tr><td>494                </td><td>78                 </td><td>983                </td><td> 51450             </td><td>2                  </td><td>cash               </td><td>2017-03-16 21:39:35</td><td>25725              </td></tr>\n",
       "\t<tr><td>512                </td><td>78                 </td><td>967                </td><td> 51450             </td><td>2                  </td><td>cash               </td><td>2017-03-09 07:23:14</td><td>25725              </td></tr>\n",
       "\t<tr><td>618                </td><td>78                 </td><td>760                </td><td> 51450             </td><td>2                  </td><td>cash               </td><td>2017-03-18 11:18:42</td><td>25725              </td></tr>\n",
       "\t<tr><td>692                </td><td>78                 </td><td>878                </td><td>154350             </td><td>6                  </td><td>debit              </td><td>2017-03-27 22:51:43</td><td>25725              </td></tr>\n",
       "</tbody>\n",
       "</table>\n"
      ],
      "text/latex": [
       "\\begin{tabular}{r|llllllll}\n",
       " order\\_id & shop\\_id & user\\_id & order\\_amount & total\\_items & payment\\_method & created\\_at & amount\\_per\\_item\\\\\n",
       "\\hline\n",
       "\t 161                 & 78                  & 990                 &  25725              & 1                   & credit\\_card       & 2017-03-12 05:56:57 & 25725              \\\\\n",
       "\t 491                 & 78                  & 936                 &  51450              & 2                   & debit               & 2017-03-26 17:08:19 & 25725              \\\\\n",
       "\t 494                 & 78                  & 983                 &  51450              & 2                   & cash                & 2017-03-16 21:39:35 & 25725              \\\\\n",
       "\t 512                 & 78                  & 967                 &  51450              & 2                   & cash                & 2017-03-09 07:23:14 & 25725              \\\\\n",
       "\t 618                 & 78                  & 760                 &  51450              & 2                   & cash                & 2017-03-18 11:18:42 & 25725              \\\\\n",
       "\t 692                 & 78                  & 878                 & 154350              & 6                   & debit               & 2017-03-27 22:51:43 & 25725              \\\\\n",
       "\\end{tabular}\n"
      ],
      "text/markdown": [
       "\n",
       "| order_id | shop_id | user_id | order_amount | total_items | payment_method | created_at | amount_per_item |\n",
       "|---|---|---|---|---|---|---|---|\n",
       "| 161                 | 78                  | 990                 |  25725              | 1                   | credit_card         | 2017-03-12 05:56:57 | 25725               |\n",
       "| 491                 | 78                  | 936                 |  51450              | 2                   | debit               | 2017-03-26 17:08:19 | 25725               |\n",
       "| 494                 | 78                  | 983                 |  51450              | 2                   | cash                | 2017-03-16 21:39:35 | 25725               |\n",
       "| 512                 | 78                  | 967                 |  51450              | 2                   | cash                | 2017-03-09 07:23:14 | 25725               |\n",
       "| 618                 | 78                  | 760                 |  51450              | 2                   | cash                | 2017-03-18 11:18:42 | 25725               |\n",
       "| 692                 | 78                  | 878                 | 154350              | 6                   | debit               | 2017-03-27 22:51:43 | 25725               |\n",
       "\n"
      ],
      "text/plain": [
       "  order_id shop_id user_id order_amount total_items payment_method\n",
       "1 161      78      990      25725       1           credit_card   \n",
       "2 491      78      936      51450       2           debit         \n",
       "3 494      78      983      51450       2           cash          \n",
       "4 512      78      967      51450       2           cash          \n",
       "5 618      78      760      51450       2           cash          \n",
       "6 692      78      878     154350       6           debit         \n",
       "  created_at          amount_per_item\n",
       "1 2017-03-12 05:56:57 25725          \n",
       "2 2017-03-26 17:08:19 25725          \n",
       "3 2017-03-16 21:39:35 25725          \n",
       "4 2017-03-09 07:23:14 25725          \n",
       "5 2017-03-18 11:18:42 25725          \n",
       "6 2017-03-27 22:51:43 25725          "
      ]
     },
     "metadata": {},
     "output_type": "display_data"
    }
   ],
   "source": [
    "head(sales %>% arrange(desc(amount_per_item)))"
   ]
  },
  {
   "cell_type": "markdown",
   "id": "b95b42e3",
   "metadata": {},
   "source": [
    "Next, we examine the count of `total_items` across all orders to look at the frequency of unusually large purchase orders."
   ]
  },
  {
   "cell_type": "code",
   "execution_count": 62,
   "id": "b9b71e38",
   "metadata": {},
   "outputs": [
    {
     "data": {
      "text/html": [
       "<table>\n",
       "<thead><tr><th scope=col>total_items</th><th scope=col>frequency</th></tr></thead>\n",
       "<tbody>\n",
       "\t<tr><td>2000</td><td>  17</td></tr>\n",
       "\t<tr><td>   8</td><td>   1</td></tr>\n",
       "\t<tr><td>   6</td><td>   9</td></tr>\n",
       "\t<tr><td>   5</td><td>  77</td></tr>\n",
       "\t<tr><td>   4</td><td> 293</td></tr>\n",
       "\t<tr><td>   3</td><td> 941</td></tr>\n",
       "\t<tr><td>   2</td><td>1832</td></tr>\n",
       "\t<tr><td>   1</td><td>1830</td></tr>\n",
       "</tbody>\n",
       "</table>\n"
      ],
      "text/latex": [
       "\\begin{tabular}{r|ll}\n",
       " total\\_items & frequency\\\\\n",
       "\\hline\n",
       "\t 2000 &   17\\\\\n",
       "\t    8 &    1\\\\\n",
       "\t    6 &    9\\\\\n",
       "\t    5 &   77\\\\\n",
       "\t    4 &  293\\\\\n",
       "\t    3 &  941\\\\\n",
       "\t    2 & 1832\\\\\n",
       "\t    1 & 1830\\\\\n",
       "\\end{tabular}\n"
      ],
      "text/markdown": [
       "\n",
       "| total_items | frequency |\n",
       "|---|---|\n",
       "| 2000 |   17 |\n",
       "|    8 |    1 |\n",
       "|    6 |    9 |\n",
       "|    5 |   77 |\n",
       "|    4 |  293 |\n",
       "|    3 |  941 |\n",
       "|    2 | 1832 |\n",
       "|    1 | 1830 |\n",
       "\n"
      ],
      "text/plain": [
       "  total_items frequency\n",
       "1 2000          17     \n",
       "2    8           1     \n",
       "3    6           9     \n",
       "4    5          77     \n",
       "5    4         293     \n",
       "6    3         941     \n",
       "7    2        1832     \n",
       "8    1        1830     "
      ]
     },
     "metadata": {},
     "output_type": "display_data"
    }
   ],
   "source": [
    "sales %>% \n",
    "    group_by(total_items) %>% \n",
    "    summarise(frequency = n()) %>% \n",
    "    arrange(desc(total_items))"
   ]
  },
  {
   "cell_type": "markdown",
   "id": "1a53b09d",
   "metadata": {},
   "source": [
    "All but 17 orders are for 8 sneakers are less. The 17 large orders are each for 2000 sneakers, which seems particularly large unless there is some sort of supplier and retailer relationship. Even then, this still seems like odd behaviour, as each shop is supposedly only selling one model of sneaker.\n",
    "\n",
    "To explore the high-end of dollar amounts per item across orders, we examine the top 10 and their respective frequencies below."
   ]
  },
  {
   "cell_type": "code",
   "execution_count": 63,
   "id": "a024dcc6",
   "metadata": {},
   "outputs": [
    {
     "data": {
      "text/html": [
       "<table>\n",
       "<thead><tr><th scope=col>amount_per_item</th><th scope=col>frequency</th></tr></thead>\n",
       "<tbody>\n",
       "\t<tr><td>25725</td><td> 46  </td></tr>\n",
       "\t<tr><td>  352</td><td> 51  </td></tr>\n",
       "\t<tr><td>  201</td><td> 53  </td></tr>\n",
       "\t<tr><td>  196</td><td> 61  </td></tr>\n",
       "\t<tr><td>  195</td><td> 54  </td></tr>\n",
       "\t<tr><td>  193</td><td> 44  </td></tr>\n",
       "\t<tr><td>  190</td><td> 35  </td></tr>\n",
       "\t<tr><td>  187</td><td>105  </td></tr>\n",
       "\t<tr><td>  184</td><td> 49  </td></tr>\n",
       "\t<tr><td>  181</td><td>112  </td></tr>\n",
       "</tbody>\n",
       "</table>\n"
      ],
      "text/latex": [
       "\\begin{tabular}{r|ll}\n",
       " amount\\_per\\_item & frequency\\\\\n",
       "\\hline\n",
       "\t 25725 &  46  \\\\\n",
       "\t   352 &  51  \\\\\n",
       "\t   201 &  53  \\\\\n",
       "\t   196 &  61  \\\\\n",
       "\t   195 &  54  \\\\\n",
       "\t   193 &  44  \\\\\n",
       "\t   190 &  35  \\\\\n",
       "\t   187 & 105  \\\\\n",
       "\t   184 &  49  \\\\\n",
       "\t   181 & 112  \\\\\n",
       "\\end{tabular}\n"
      ],
      "text/markdown": [
       "\n",
       "| amount_per_item | frequency |\n",
       "|---|---|\n",
       "| 25725 |  46   |\n",
       "|   352 |  51   |\n",
       "|   201 |  53   |\n",
       "|   196 |  61   |\n",
       "|   195 |  54   |\n",
       "|   193 |  44   |\n",
       "|   190 |  35   |\n",
       "|   187 | 105   |\n",
       "|   184 |  49   |\n",
       "|   181 | 112   |\n",
       "\n"
      ],
      "text/plain": [
       "   amount_per_item frequency\n",
       "1  25725            46      \n",
       "2    352            51      \n",
       "3    201            53      \n",
       "4    196            61      \n",
       "5    195            54      \n",
       "6    193            44      \n",
       "7    190            35      \n",
       "8    187           105      \n",
       "9    184            49      \n",
       "10   181           112      "
      ]
     },
     "metadata": {},
     "output_type": "display_data"
    }
   ],
   "source": [
    "sales %>% \n",
    "    group_by(amount_per_item) %>% \n",
    "    summarise(frequency = n()) %>% \n",
    "    arrange(desc(amount_per_item)) %>% \n",
    "    top_n(10, amount_per_item)"
   ]
  },
  {
   "cell_type": "markdown",
   "id": "5e48ee2d",
   "metadata": {},
   "source": [
    "There are 46 orders with a suspiciously high amount per item of $25,725. \n",
    "\n",
    "There are also 51 orders with a somewhat unusually large amount per item of $352. This amount per item is 75% greater than the next highest amount per item. Additionally, all amounts below it are relatively close together. Moreover, some of these 51 orders were from the orders with 2000 `total_items`, which was already suspcisious.\n",
    "\n",
    "Let's take a look at all `shop_id`'s and `total_items` that have an order_amount greater than $201."
   ]
  },
  {
   "cell_type": "code",
   "execution_count": 64,
   "id": "46aa6bef",
   "metadata": {},
   "outputs": [
    {
     "data": {
      "text/html": [
       "<table>\n",
       "<thead><tr><th scope=col>shop_id</th><th scope=col>amount_per_item</th><th scope=col>total_items</th><th scope=col>frequency</th></tr></thead>\n",
       "<tbody>\n",
       "\t<tr><td>42   </td><td>  352</td><td>   1 </td><td>15   </td></tr>\n",
       "\t<tr><td>42   </td><td>  352</td><td>   2 </td><td>13   </td></tr>\n",
       "\t<tr><td>42   </td><td>  352</td><td>   3 </td><td> 3   </td></tr>\n",
       "\t<tr><td>42   </td><td>  352</td><td>   4 </td><td> 2   </td></tr>\n",
       "\t<tr><td>42   </td><td>  352</td><td>   5 </td><td> 1   </td></tr>\n",
       "\t<tr><td>42   </td><td>  352</td><td>2000 </td><td>17   </td></tr>\n",
       "\t<tr><td>78   </td><td>25725</td><td>   1 </td><td>19   </td></tr>\n",
       "\t<tr><td>78   </td><td>25725</td><td>   2 </td><td>16   </td></tr>\n",
       "\t<tr><td>78   </td><td>25725</td><td>   3 </td><td> 9   </td></tr>\n",
       "\t<tr><td>78   </td><td>25725</td><td>   4 </td><td> 1   </td></tr>\n",
       "\t<tr><td>78   </td><td>25725</td><td>   6 </td><td> 1   </td></tr>\n",
       "</tbody>\n",
       "</table>\n"
      ],
      "text/latex": [
       "\\begin{tabular}{r|llll}\n",
       " shop\\_id & amount\\_per\\_item & total\\_items & frequency\\\\\n",
       "\\hline\n",
       "\t 42    &   352 &    1  & 15   \\\\\n",
       "\t 42    &   352 &    2  & 13   \\\\\n",
       "\t 42    &   352 &    3  &  3   \\\\\n",
       "\t 42    &   352 &    4  &  2   \\\\\n",
       "\t 42    &   352 &    5  &  1   \\\\\n",
       "\t 42    &   352 & 2000  & 17   \\\\\n",
       "\t 78    & 25725 &    1  & 19   \\\\\n",
       "\t 78    & 25725 &    2  & 16   \\\\\n",
       "\t 78    & 25725 &    3  &  9   \\\\\n",
       "\t 78    & 25725 &    4  &  1   \\\\\n",
       "\t 78    & 25725 &    6  &  1   \\\\\n",
       "\\end{tabular}\n"
      ],
      "text/markdown": [
       "\n",
       "| shop_id | amount_per_item | total_items | frequency |\n",
       "|---|---|---|---|\n",
       "| 42    |   352 |    1  | 15    |\n",
       "| 42    |   352 |    2  | 13    |\n",
       "| 42    |   352 |    3  |  3    |\n",
       "| 42    |   352 |    4  |  2    |\n",
       "| 42    |   352 |    5  |  1    |\n",
       "| 42    |   352 | 2000  | 17    |\n",
       "| 78    | 25725 |    1  | 19    |\n",
       "| 78    | 25725 |    2  | 16    |\n",
       "| 78    | 25725 |    3  |  9    |\n",
       "| 78    | 25725 |    4  |  1    |\n",
       "| 78    | 25725 |    6  |  1    |\n",
       "\n"
      ],
      "text/plain": [
       "   shop_id amount_per_item total_items frequency\n",
       "1  42        352              1        15       \n",
       "2  42        352              2        13       \n",
       "3  42        352              3         3       \n",
       "4  42        352              4         2       \n",
       "5  42        352              5         1       \n",
       "6  42        352           2000        17       \n",
       "7  78      25725              1        19       \n",
       "8  78      25725              2        16       \n",
       "9  78      25725              3         9       \n",
       "10 78      25725              4         1       \n",
       "11 78      25725              6         1       "
      ]
     },
     "metadata": {},
     "output_type": "display_data"
    }
   ],
   "source": [
    "sales %>% \n",
    "    filter(amount_per_item > 201) %>% \n",
    "    group_by(shop_id, amount_per_item, total_items) %>% \n",
    "    summarise(frequency = n())"
   ]
  },
  {
   "cell_type": "markdown",
   "id": "e94a7144",
   "metadata": {},
   "source": [
    "There are two shops, 42 and 78, that are responsible for orders with unusually large amounts per item. Filtering the data to include only orders from these two shops, we see that shop 42 accounts for 51 orders and shop 78 accounts for 46 orders. All of their orders are for exactly the same amount per item."
   ]
  },
  {
   "cell_type": "code",
   "execution_count": 71,
   "id": "d3c18643",
   "metadata": {},
   "outputs": [
    {
     "data": {
      "text/html": [
       "<table>\n",
       "<thead><tr><th scope=col>shop_id</th><th scope=col>amount_per_item</th><th scope=col>frequency</th></tr></thead>\n",
       "<tbody>\n",
       "\t<tr><td>42   </td><td>  352</td><td>51   </td></tr>\n",
       "\t<tr><td>78   </td><td>25725</td><td>46   </td></tr>\n",
       "</tbody>\n",
       "</table>\n"
      ],
      "text/latex": [
       "\\begin{tabular}{r|lll}\n",
       " shop\\_id & amount\\_per\\_item & frequency\\\\\n",
       "\\hline\n",
       "\t 42    &   352 & 51   \\\\\n",
       "\t 78    & 25725 & 46   \\\\\n",
       "\\end{tabular}\n"
      ],
      "text/markdown": [
       "\n",
       "| shop_id | amount_per_item | frequency |\n",
       "|---|---|---|\n",
       "| 42    |   352 | 51    |\n",
       "| 78    | 25725 | 46    |\n",
       "\n"
      ],
      "text/plain": [
       "  shop_id amount_per_item frequency\n",
       "1 42        352           51       \n",
       "2 78      25725           46       "
      ]
     },
     "metadata": {},
     "output_type": "display_data"
    }
   ],
   "source": [
    "sales %>% \n",
    "    filter(shop_id %in% c(42, 78)) %>% \n",
    "    group_by(shop_id, amount_per_item) %>% \n",
    "    summarise(frequency = n())"
   ]
  },
  {
   "cell_type": "markdown",
   "id": "589b3e54",
   "metadata": {},
   "source": [
    "This brings us to two possible ways to report a better metric for this dataset.\n",
    "\n",
    "1. Consider that 51 + 46 = 97 orders only accounts for less than 2% of all orders over the last 30 days. In this case, it is reasonable to report the median order amount, which should be relatively unaffected by a small proportion of outliers and unusual records."
   ]
  },
  {
   "cell_type": "code",
   "execution_count": 72,
   "id": "249dcdf0",
   "metadata": {},
   "outputs": [
    {
     "data": {
      "text/html": [
       "'$284'"
      ],
      "text/latex": [
       "'\\$284'"
      ],
      "text/markdown": [
       "'$284'"
      ],
      "text/plain": [
       "[1] \"$284\""
      ]
     },
     "metadata": {},
     "output_type": "display_data"
    }
   ],
   "source": [
    "dollar_format()(median(sales$order_amount))"
   ]
  },
  {
   "cell_type": "markdown",
   "id": "e813e04c",
   "metadata": {},
   "source": [
    "2. Alternatively, consider dropping orders from `shop_id` 42 and 78, when reporting the AOV."
   ]
  },
  {
   "cell_type": "code",
   "execution_count": 68,
   "id": "1a3406df",
   "metadata": {},
   "outputs": [
    {
     "data": {
      "text/html": [
       "<table>\n",
       "<thead><tr><th scope=col>AOV</th><th scope=col>median_order_vale</th><th scope=col>max</th></tr></thead>\n",
       "<tbody>\n",
       "\t<tr><td>300.1558</td><td>284     </td><td>1086    </td></tr>\n",
       "</tbody>\n",
       "</table>\n"
      ],
      "text/latex": [
       "\\begin{tabular}{r|lll}\n",
       " AOV & median\\_order\\_vale & max\\\\\n",
       "\\hline\n",
       "\t 300.1558 & 284      & 1086    \\\\\n",
       "\\end{tabular}\n"
      ],
      "text/markdown": [
       "\n",
       "| AOV | median_order_vale | max |\n",
       "|---|---|---|\n",
       "| 300.1558 | 284      | 1086     |\n",
       "\n"
      ],
      "text/plain": [
       "  AOV      median_order_vale max \n",
       "1 300.1558 284               1086"
      ]
     },
     "metadata": {},
     "output_type": "display_data"
    }
   ],
   "source": [
    "sales %>% \n",
    "    filter(!shop_id %in% c(42, 78)) %>% \n",
    "    summarise(AOV = mean(order_amount), median_order_vale = median(order_amount), max = max(order_amount))"
   ]
  },
  {
   "cell_type": "markdown",
   "id": "b5e8a5b7",
   "metadata": {},
   "source": [
    "Dropping these 97 unusual orders, we find that the AOV is approximately $300.16.\n",
    "\n",
    "Additionally, we see that the median order amount remains unchanged at $284; further reinforcing that the median is a more robust metric."
   ]
  },
  {
   "cell_type": "markdown",
   "id": "8151bfca",
   "metadata": {},
   "source": [
    "## Answers - Question 1\n",
    "> a. Think about what could be going wrong with our calculation. Think about a better way to evaluate this data. \n",
    "\n",
    "Summarizing the exploratory analysis above, there are a relatively small number of large orders causing a heavy right-skew in order amount data. Specifically, there are 17 orders of 2,000 sneakers each occurring between the same shop and user ID pairs (42, 607), at the same time across multiple days. Shop 42 is responsible for 51 orders altogether, with an unusually high amount per item of $352. \n",
    "\n",
    "Additionally, shop 78 is responsible for 46 orders with a very suspicious amount per item of $25,725.\n",
    "\n",
    "A better way to evaluate this data would be to examine first shops 42 and 78 to determine the reason for the suspicious order behaviour.\n",
    "\n",
    "> b. What metric would you report for this dataset?\n",
    "\n",
    "I recommend reporting the median order amount of $284. This metric is robust to the large outliers and is a commonly used measure of central tendency when data is right-skewed, like with housing prices and salaries.\n",
    "\n",
    "Alternatively, if an examination of the orders from shops 42 and 78 reveals that this data is erroneous and merits exculsion, then dropping the 97 orders from these shops and reporting the new AOV of $300.16 seems reasonable.\n",
    "\n",
    "> c. What is its value?\n",
    "\n",
    "The median order amount is $284."
   ]
  },
  {
   "cell_type": "markdown",
   "id": "bc846b40",
   "metadata": {},
   "source": [
    "## Question 2\n",
    "\n",
    ">a. How many orders were shipped by Speedy Express in total?\n",
    "\n",
    "54\n"
   ]
  },
  {
   "cell_type": "markdown",
   "id": "df598eb0",
   "metadata": {},
   "source": [
    "```{r eval=FALSE}\n",
    "SELECT COUNT(*)\n",
    "FROM Orders O, Shippers S\n",
    "ON O.ShipperID = S.ShipperID\n",
    "WHERE ShipperName = \"Speedy Express\";\n",
    "```"
   ]
  },
  {
   "cell_type": "markdown",
   "id": "d584796e",
   "metadata": {},
   "source": [
    "> b. What is the last name of the employee with the most orders?\n",
    "\n",
    "Peacock"
   ]
  },
  {
   "cell_type": "markdown",
   "id": "c9b4e34c",
   "metadata": {},
   "source": [
    "```{r eval=False}\n",
    "SELECT E.LastName, COUNT(*) Freq\n",
    "FROM Orders O, Employees E\n",
    "ON O.EmployeeID = E.EmployeeID\n",
    "GROUP BY E.LastName\n",
    "ORDER BY Freq DESC\n",
    "LIMIT 1;\n",
    "```"
   ]
  },
  {
   "cell_type": "markdown",
   "id": "c390cc94",
   "metadata": {},
   "source": [
    ">c. What product was ordered the most by customers in Germany?\n",
    "\n",
    "Boston Crab Meat"
   ]
  },
  {
   "cell_type": "markdown",
   "id": "e609ee61",
   "metadata": {},
   "source": [
    "```{r eval=False}\n",
    "SELECT ProductName, SUM(Quantity) Total\n",
    "FROM Orders O, Customers C ON O.CustomerID = C.CustomerID\n",
    "JOIN OrderDetails OD ON O.OrderID = OD.OrderID\n",
    "JOIN Products P ON P.ProductID = OD.ProductID\n",
    "WHERE Country = \"Germany\"\n",
    "GROUP BY OD.ProductID\n",
    "ORDER BY Total DESC\n",
    "LIMIT 1;\n",
    "```"
   ]
  }
 ],
 "metadata": {
  "kernelspec": {
   "display_name": "R",
   "language": "R",
   "name": "ir"
  },
  "language_info": {
   "codemirror_mode": "r",
   "file_extension": ".r",
   "mimetype": "text/x-r-source",
   "name": "R",
   "pygments_lexer": "r",
   "version": "3.6.1"
  }
 },
 "nbformat": 4,
 "nbformat_minor": 5
}
